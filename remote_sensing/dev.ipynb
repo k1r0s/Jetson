{
 "cells": [
  {
   "cell_type": "code",
<<<<<<< HEAD
   "execution_count": 1,
=======
   "execution_count": 3,
>>>>>>> f3fa48156b2f48f2911db90a56fbf6001d924485
   "metadata": {},
   "outputs": [],
   "source": [
    "from osgeo import gdal"
   ]
  },
  {
   "cell_type": "code",
<<<<<<< HEAD
   "execution_count": 2,
   "metadata": {},
   "outputs": [
    {
     "ename": "EarthExplorerError",
     "evalue": "Download is not available",
     "output_type": "error",
     "traceback": [
      "\u001b[1;31m---------------------------------------------------------------------------\u001b[0m",
      "\u001b[1;31mEarthExplorerError\u001b[0m                        Traceback (most recent call last)",
      "File \u001b[1;32m~\\AppData\\Local\\Programs\\Python\\Python39\\lib\\site-packages\\landsatxplore\\earthexplorer.py:164\u001b[0m, in \u001b[0;36mEarthExplorer.download\u001b[1;34m(self, identifier, output_dir, dataset, timeout, skip)\u001b[0m\n\u001b[0;32m    <a href='file:///c%3A/Users/Bruno/AppData/Local/Programs/Python/Python39/lib/site-packages/landsatxplore/earthexplorer.py?line=160'>161</a>\u001b[0m     url \u001b[39m=\u001b[39m EE_DOWNLOAD_URL\u001b[39m.\u001b[39mformat(\n\u001b[0;32m    <a href='file:///c%3A/Users/Bruno/AppData/Local/Programs/Python/Python39/lib/site-packages/landsatxplore/earthexplorer.py?line=161'>162</a>\u001b[0m         data_product_id\u001b[39m=\u001b[39mDATA_PRODUCTS[dataset], entity_id\u001b[39m=\u001b[39mentity_id\n\u001b[0;32m    <a href='file:///c%3A/Users/Bruno/AppData/Local/Programs/Python/Python39/lib/site-packages/landsatxplore/earthexplorer.py?line=162'>163</a>\u001b[0m     )\n\u001b[1;32m--> <a href='file:///c%3A/Users/Bruno/AppData/Local/Programs/Python/Python39/lib/site-packages/landsatxplore/earthexplorer.py?line=163'>164</a>\u001b[0m     filename \u001b[39m=\u001b[39m \u001b[39mself\u001b[39;49m\u001b[39m.\u001b[39;49m_download(url, output_dir, timeout\u001b[39m=\u001b[39;49mtimeout, skip\u001b[39m=\u001b[39;49mskip)\n\u001b[0;32m    <a href='file:///c%3A/Users/Bruno/AppData/Local/Programs/Python/Python39/lib/site-packages/landsatxplore/earthexplorer.py?line=164'>165</a>\u001b[0m \u001b[39mexcept\u001b[39;00m:\n",
      "File \u001b[1;32m~\\AppData\\Local\\Programs\\Python\\Python39\\lib\\site-packages\\landsatxplore\\earthexplorer.py:105\u001b[0m, in \u001b[0;36mEarthExplorer._download\u001b[1;34m(self, url, output_dir, timeout, chunk_size, skip)\u001b[0m\n\u001b[0;32m    <a href='file:///c%3A/Users/Bruno/AppData/Local/Programs/Python/Python39/lib/site-packages/landsatxplore/earthexplorer.py?line=103'>104</a>\u001b[0m \u001b[39mif\u001b[39;00m error_msg:\n\u001b[1;32m--> <a href='file:///c%3A/Users/Bruno/AppData/Local/Programs/Python/Python39/lib/site-packages/landsatxplore/earthexplorer.py?line=104'>105</a>\u001b[0m     \u001b[39mraise\u001b[39;00m EarthExplorerError(error_msg)\n\u001b[0;32m    <a href='file:///c%3A/Users/Bruno/AppData/Local/Programs/Python/Python39/lib/site-packages/landsatxplore/earthexplorer.py?line=105'>106</a>\u001b[0m download_url \u001b[39m=\u001b[39m r\u001b[39m.\u001b[39mjson()\u001b[39m.\u001b[39mget(\u001b[39m\"\u001b[39m\u001b[39murl\u001b[39m\u001b[39m\"\u001b[39m)\n",
      "\u001b[1;31mEarthExplorerError\u001b[0m: Download is not available",
      "\nDuring handling of the above exception, another exception occurred:\n",
      "\u001b[1;31mEarthExplorerError\u001b[0m                        Traceback (most recent call last)",
      "\u001b[1;32mc:\\dev\\Jetson\\remote_sensing\\dev.ipynb Cell 2'\u001b[0m in \u001b[0;36m<module>\u001b[1;34m\u001b[0m\n\u001b[1;32m----> <a href='vscode-notebook-cell:/c%3A/dev/Jetson/remote_sensing/dev.ipynb#ch0000001?line=0'>1</a>\u001b[0m data_utils\u001b[39m.\u001b[39;49mdownload_region_data(\u001b[39m\"\u001b[39;49m\u001b[39mbanadir\u001b[39;49m\u001b[39m\"\u001b[39;49m, \u001b[39m\"\u001b[39;49m\u001b[39mbarcanjo\u001b[39;49m\u001b[39m\"\u001b[39;49m, \u001b[39m\"\u001b[39;49m\u001b[39mGuitarra915641448\u001b[39;49m\u001b[39m\"\u001b[39;49m)\n",
      "File \u001b[1;32mc:\\dev\\Jetson\\remote_sensing\\data_utils.py:85\u001b[0m, in \u001b[0;36mdownload_region_data\u001b[1;34m(region, user, passwd, root_data_dir, location_file_path)\u001b[0m\n\u001b[0;32m     <a href='file:///c%3A/dev/Jetson/remote_sensing/data_utils.py?line=82'>83</a>\u001b[0m             path \u001b[39m=\u001b[39m root_data_dir \u001b[39m+\u001b[39m \u001b[39m\"\u001b[39m\u001b[39m/\u001b[39m\u001b[39m\"\u001b[39m \u001b[39m+\u001b[39m  region \u001b[39m+\u001b[39m \u001b[39m\"\u001b[39m\u001b[39m/\u001b[39m\u001b[39m\"\u001b[39m \u001b[39m+\u001b[39m \u001b[39mstr\u001b[39m(date\u001b[39m.\u001b[39myear) \u001b[39m+\u001b[39m \u001b[39m\"\u001b[39m\u001b[39m_\u001b[39m\u001b[39m\"\u001b[39m \u001b[39m+\u001b[39m \u001b[39mstr\u001b[39m(date\u001b[39m.\u001b[39mmonth)\u001b[39m+\u001b[39m \u001b[39m\"\u001b[39m\u001b[39m/\u001b[39m\u001b[39m\"\u001b[39m\n\u001b[0;32m     <a href='file:///c%3A/dev/Jetson/remote_sensing/data_utils.py?line=83'>84</a>\u001b[0m             Path(path)\u001b[39m.\u001b[39mmkdir(exist_ok\u001b[39m=\u001b[39m\u001b[39mTrue\u001b[39;00m)\n\u001b[1;32m---> <a href='file:///c%3A/dev/Jetson/remote_sensing/data_utils.py?line=84'>85</a>\u001b[0m             ee\u001b[39m.\u001b[39;49mdownload(scene[\u001b[39m\"\u001b[39;49m\u001b[39mdisplay_id\u001b[39;49m\u001b[39m\"\u001b[39;49m], path)\n\u001b[0;32m     <a href='file:///c%3A/dev/Jetson/remote_sensing/data_utils.py?line=85'>86</a>\u001b[0m             collected\u001b[39m.\u001b[39mappend(info)\n\u001b[0;32m     <a href='file:///c%3A/dev/Jetson/remote_sensing/data_utils.py?line=87'>88</a>\u001b[0m api\u001b[39m.\u001b[39mlogout()\n",
      "File \u001b[1;32m~\\AppData\\Local\\Programs\\Python\\Python39\\lib\\site-packages\\landsatxplore\\earthexplorer.py:169\u001b[0m, in \u001b[0;36mEarthExplorer.download\u001b[1;34m(self, identifier, output_dir, dataset, timeout, skip)\u001b[0m\n\u001b[0;32m    <a href='file:///c%3A/Users/Bruno/AppData/Local/Programs/Python/Python39/lib/site-packages/landsatxplore/earthexplorer.py?line=164'>165</a>\u001b[0m \u001b[39mexcept\u001b[39;00m:\n\u001b[0;32m    <a href='file:///c%3A/Users/Bruno/AppData/Local/Programs/Python/Python39/lib/site-packages/landsatxplore/earthexplorer.py?line=165'>166</a>\u001b[0m     url \u001b[39m=\u001b[39m EE_DOWNLOAD_URL\u001b[39m.\u001b[39mformat(\n\u001b[0;32m    <a href='file:///c%3A/Users/Bruno/AppData/Local/Programs/Python/Python39/lib/site-packages/landsatxplore/earthexplorer.py?line=166'>167</a>\u001b[0m         data_product_id\u001b[39m=\u001b[39mDATA_PRODUCTS_II[dataset], entity_id\u001b[39m=\u001b[39mentity_id\n\u001b[0;32m    <a href='file:///c%3A/Users/Bruno/AppData/Local/Programs/Python/Python39/lib/site-packages/landsatxplore/earthexplorer.py?line=167'>168</a>\u001b[0m     )\n\u001b[1;32m--> <a href='file:///c%3A/Users/Bruno/AppData/Local/Programs/Python/Python39/lib/site-packages/landsatxplore/earthexplorer.py?line=168'>169</a>\u001b[0m     filename \u001b[39m=\u001b[39m \u001b[39mself\u001b[39;49m\u001b[39m.\u001b[39;49m_download(url, output_dir, timeout\u001b[39m=\u001b[39;49mtimeout, skip\u001b[39m=\u001b[39;49mskip)\n\u001b[0;32m    <a href='file:///c%3A/Users/Bruno/AppData/Local/Programs/Python/Python39/lib/site-packages/landsatxplore/earthexplorer.py?line=169'>170</a>\u001b[0m \u001b[39mreturn\u001b[39;00m filename\n",
      "File \u001b[1;32m~\\AppData\\Local\\Programs\\Python\\Python39\\lib\\site-packages\\landsatxplore\\earthexplorer.py:105\u001b[0m, in \u001b[0;36mEarthExplorer._download\u001b[1;34m(self, url, output_dir, timeout, chunk_size, skip)\u001b[0m\n\u001b[0;32m    <a href='file:///c%3A/Users/Bruno/AppData/Local/Programs/Python/Python39/lib/site-packages/landsatxplore/earthexplorer.py?line=102'>103</a>\u001b[0m     error_msg \u001b[39m=\u001b[39m r\u001b[39m.\u001b[39mjson()\u001b[39m.\u001b[39mget(\u001b[39m\"\u001b[39m\u001b[39merrorMessage\u001b[39m\u001b[39m\"\u001b[39m)\n\u001b[0;32m    <a href='file:///c%3A/Users/Bruno/AppData/Local/Programs/Python/Python39/lib/site-packages/landsatxplore/earthexplorer.py?line=103'>104</a>\u001b[0m     \u001b[39mif\u001b[39;00m error_msg:\n\u001b[1;32m--> <a href='file:///c%3A/Users/Bruno/AppData/Local/Programs/Python/Python39/lib/site-packages/landsatxplore/earthexplorer.py?line=104'>105</a>\u001b[0m         \u001b[39mraise\u001b[39;00m EarthExplorerError(error_msg)\n\u001b[0;32m    <a href='file:///c%3A/Users/Bruno/AppData/Local/Programs/Python/Python39/lib/site-packages/landsatxplore/earthexplorer.py?line=105'>106</a>\u001b[0m     download_url \u001b[39m=\u001b[39m r\u001b[39m.\u001b[39mjson()\u001b[39m.\u001b[39mget(\u001b[39m\"\u001b[39m\u001b[39murl\u001b[39m\u001b[39m\"\u001b[39m)\n\u001b[0;32m    <a href='file:///c%3A/Users/Bruno/AppData/Local/Programs/Python/Python39/lib/site-packages/landsatxplore/earthexplorer.py?line=107'>108</a>\u001b[0m \u001b[39mtry\u001b[39;00m:\n",
      "\u001b[1;31mEarthExplorerError\u001b[0m: Download is not available"
     ]
    }
   ],
   "source": [
    "data_utils.download_region_data(\"banadir\", \"barcanjo\", \"Guitarra915641448\")"
=======
   "execution_count": null,
   "metadata": {},
   "outputs": [],
   "source": [
    "gdal."
>>>>>>> f3fa48156b2f48f2911db90a56fbf6001d924485
   ]
  }
 ],
 "metadata": {
  "interpreter": {
   "hash": "0242178edd9cc396cb1f7db7a8795393aae7642936c12526087a3b6371ccf1ca"
  },
  "kernelspec": {
   "display_name": "Python 3.9.9 64-bit",
   "language": "python",
   "name": "python3"
  },
  "language_info": {
   "codemirror_mode": {
    "name": "ipython",
    "version": 3
   },
   "file_extension": ".py",
   "mimetype": "text/x-python",
   "name": "python",
   "nbconvert_exporter": "python",
   "pygments_lexer": "ipython3",
   "version": "3.9.9"
  },
  "orig_nbformat": 4
 },
 "nbformat": 4,
 "nbformat_minor": 2
}
