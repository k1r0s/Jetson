{
 "cells": [
  {
   "cell_type": "code",
   "execution_count": 1,
   "metadata": {},
   "outputs": [],
   "source": [
    "kml_file_path = \"Somalia_Adminstrative_Boundaries.kml\"\n",
    "\n",
    "initial_text = \"\"\"<?xml version=\"1.0\" encoding=\"utf-8\" ?>\n",
    "<kml xmlns=\"http://www.opengis.net/kml/2.2\">\n",
    "<Document id=\"root_doc\">\n",
    "<Schema name=\"Somalia_Adminstrative_Boundaries\" id=\"Somalia_Adminstrative_Boundaries\">\n",
    "\t<SimpleField name=\"OBJECTID\" type=\"int\"></SimpleField>\n",
    "\t<SimpleField name=\"REG_NAME\" type=\"string\"></SimpleField>\n",
    "\t<SimpleField name=\"REG_CODE\" type=\"int\"></SimpleField>\n",
    "\t<SimpleField name=\"REG_ALT\" type=\"string\"></SimpleField>\n",
    "\t<SimpleField name=\"DIST_NAME\" type=\"string\"></SimpleField>\n",
    "\t<SimpleField name=\"DIS_CODE\" type=\"int\"></SimpleField>\n",
    "\t<SimpleField name=\"DIST_ALT\" type=\"string\"></SimpleField>\n",
    "\t<SimpleField name=\"NOTE\" type=\"string\"></SimpleField>\n",
    "\t<SimpleField name=\"Area\" type=\"float\"></SimpleField>\n",
    "\t<SimpleField name=\"DIST_2_NAM\" type=\"string\"></SimpleField>\n",
    "\t<SimpleField name=\"GlobalID\" type=\"string\"></SimpleField>\n",
    "</Schema>\n",
    "<Folder><name>Somalia_Adminstrative_Boundaries</name>\"\"\"\n",
    "\n",
    "final_text = \"\"\" </Folder>\n",
    "</Document></kml>\"\"\"\n",
    "\n",
    "region_text = \"\"\n"
   ]
  },
  {
   "cell_type": "code",
   "execution_count": null,
   "metadata": {},
   "outputs": [],
   "source": [
    "with open(kml_file_path) as kml_file :\n",
    "\n",
    "    for line in kml_file :\n",
    "\n",
    "        if \"<Placemark>\" in line:\n",
    "            region_text = \"\"\n",
    "\n",
    "        region_text += line\n",
    "        if \"DIST_NAME\" in line:\n",
    "            region_name = line.replace('<SimpleData name=\"DIST_NAME\">', \"\").replace('</SimpleData>', \"\")\n",
    "            #print(region_name)\n",
    "\n",
    "        \n",
    "        if \"</Placemark>\" in line :\n",
    "            out_file_path = \"./data/\" + region_name.strip() + \".kml\"\n",
    "            with open(out_file_path, \"w\") as out:\n",
    "                out.write(initial_text + region_text + final_text)"
   ]
  },
  {
   "cell_type": "code",
   "execution_count": 8,
   "metadata": {},
   "outputs": [],
   "source": [
    "import os\n",
    "for (dirpath, dirnames, filenames) in os.walk(\"./data/kmls/\") :\n",
    "    for kml in filenames : \n",
    "        \n",
    "        new_folder_path = \"./data/\" + kml.replace(\".kml\", \"\") \n",
    "        os.mkdir(new_folder_path)\n",
    "        os.rename(\"./data/kmls/\" + kml, new_folder_path + \"/\" + kml )"
   ]
  }
 ],
 "metadata": {
  "interpreter": {
   "hash": "0242178edd9cc396cb1f7db7a8795393aae7642936c12526087a3b6371ccf1ca"
  },
  "kernelspec": {
   "display_name": "Python 3.9.9 64-bit",
   "language": "python",
   "name": "python3"
  },
  "language_info": {
   "codemirror_mode": {
    "name": "ipython",
    "version": 3
   },
   "file_extension": ".py",
   "mimetype": "text/x-python",
   "name": "python",
   "nbconvert_exporter": "python",
   "pygments_lexer": "ipython3",
   "version": "3.9.9"
  },
  "orig_nbformat": 4
 },
 "nbformat": 4,
 "nbformat_minor": 2
}
